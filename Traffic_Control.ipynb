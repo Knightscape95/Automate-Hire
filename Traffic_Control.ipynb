{
  "nbformat": 4,
  "nbformat_minor": 0,
  "metadata": {
    "colab": {
      "provenance": [],
      "authorship_tag": "ABX9TyMaCrl283nfZj1n4SA+87jw"
    },
    "kernelspec": {
      "name": "python3",
      "display_name": "Python 3"
    },
    "language_info": {
      "name": "python"
    }
  },
  "cells": [
    {
      "cell_type": "code",
      "source": [
        "import torch\n",
        "from matplotlib import pyplot as plt\n",
        "import numpy as np\n",
        "import cv2\n",
        "import itertools\n",
        "import os\n",
        "from preprocessing import convert_voc_to_yolo\n",
        "import xml.etree.ElementTree as ET\n",
        "\n",
        "\n",
        "cd yolov5\n",
        "python train.py --img 320 --batch 16 --epochs 500 --data customVOC.yaml --weights yolov5s.pt --workers 2\n",
        "model = torch.hub.load('ultralytics/yolov5', 'custom', path='yolov5/runs/train/exp5/weights/best.pt', force_reload=True)\n",
        "fig, ax = plt.subplots(2,4, figsize=(20,10))\n",
        "imgs = os.listdir('./data/images')\n",
        "\n",
        "def box(size, box):\n",
        "    w, h = 1. / size[0], 1. / size[1]\n",
        "    x, y, lw, lh = (box[0] + box[1]) / 2.0 - 1, (box[2] + box[3]) / 2.0 - 1, box[1] - box[0], box[3] - box[2]\n",
        "    return x * w, y * h, lw * w, lh * h\n",
        "\n",
        "def convert_voc_to_yolo():\n",
        "    for anno in os.listdir('./data/labels'):\n",
        "        if anno.split('.')[1] == 'xml':\n",
        "            file_name = anno.split('.')[0]\n",
        "            out_file = open(f'./data/labels/{file_name}.txt', 'w')\n",
        "\n",
        "            tree = ET.parse(os.path.join('data','labels', anno))\n",
        "            root = tree.getroot()\n",
        "            size = root.find('size')\n",
        "            w = int(size.find('width').text)\n",
        "            h = int(size.find('height').text)\n",
        "\n",
        "            names = ['trafficlight', 'speedlimit', 'crosswalk', 'stop']\n",
        "\n",
        "            for obj in root.iter('object'):\n",
        "                cls = obj.find('name').text\n",
        "                if cls in names and int(obj.find('difficult').text) != 1:\n",
        "                    xmlbox = obj.find('bndbox')\n",
        "                    bb = convert_box((w, h), [float(xmlbox.find(x).text) for x in ('xmin', 'xmax', 'ymin', 'ymax')])\n",
        "                    cls_id = names.index(cls)  # class id\n",
        "                    out_file.write(\" \".join([str(a) for a in (cls_id, *bb)]) + '\\n')\n",
        "\n",
        "for idx in itertools.product(range(2),range(4)):\n",
        "    imgname = np.random.choice(imgs)\n",
        "    img = cv2.imread(f'./data/images/{imgname}')\n",
        "    results = model(img)\n",
        "    ax[idx[0],idx[1]].imshow(cv2.cvtColor(np.squeeze(results.render()), cv2.COLOR_BGR2RGB))"
      ],
      "metadata": {
        "id": "jOQEgaEiYEBe"
      },
      "execution_count": null,
      "outputs": []
    }
  ]
}